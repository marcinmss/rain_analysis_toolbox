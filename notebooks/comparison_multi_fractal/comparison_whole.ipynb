{
 "cells": [
  {
   "cell_type": "code",
   "execution_count": 1,
   "metadata": {},
   "outputs": [],
   "source": [
    "from stereo3d import stereo_read_from_pickle as std_read\n",
    "from parsivel import pars_read_from_pickle as pars_read\n",
    "from pandas import DataFrame\n",
    "from multifractal_analysis.spectral_analysis import get_beta_and_h\n",
    "from multifractal_analysis.double_trace_moment import get_um_params_dtm\n",
    "from multifractal_analysis.general import get_best_slice, fluctuations\n",
    "from multifractal_analysis.general import split_field\n",
    "from matplotlib import pyplot as plt\n",
    "import numpy as np \n",
    "from pathlib import Path\n",
    "pars_folder = Path(\"/home/marcio/stage_project/data/saved_events/pars_events/\")\n",
    "stereo_folder = Path(\"/home/marcio/stage_project/data/saved_events/stereo_events/\")"
   ]
  },
  {
   "cell_type": "markdown",
   "metadata": {},
   "source": [
    "Read all the saved events from parsivel and stereo 3d"
   ]
  },
  {
   "cell_type": "code",
   "execution_count": 2,
   "metadata": {},
   "outputs": [],
   "source": [
    "# Read the main parsivel series\n",
    "parsivel_events = [pars_read(file_path) for file_path in pars_folder.iterdir()]\n",
    "stereo_events = [std_read(file_path) for file_path in stereo_folder.iterdir()]"
   ]
  },
  {
   "cell_type": "markdown",
   "metadata": {},
   "source": [
    "Extract the rain rate from each series"
   ]
  },
  {
   "cell_type": "code",
   "execution_count": 3,
   "metadata": {},
   "outputs": [
    {
     "data": {
      "text/plain": [
       "0"
      ]
     },
     "execution_count": 3,
     "metadata": {},
     "output_type": "execute_result"
    }
   ],
   "source": [
    "data = [(stereo_event.rain_rate(30), pars_event.rain_rate)for stereo_event, pars_event in zip(stereo_events, parsivel_events)]\n",
    "#data = [(get_best_slice(str_rate, 2**6), get_best_slice(pars_rate, 2**6)) for str_rate, pars_rate in data]\n",
    "data = [(split_field(str_rate, 2**6, 0.35), split_field(pars_rate, 2**6)) for str_rate, pars_rate in data]\n",
    "data = [tup for tup in data if not (tup[0] is None or tup[1] is None)]\n",
    "data = [(str_rate/np.mean(str_rate), pars_rate/np.mean(pars_rate)) for str_rate, pars_rate in data]\n",
    "data = [(str_rate, pars_rate) for str_rate, pars_rate in data if not (any(np.isnan(pars_rate)) or any(np.isnan(str_rate)))]\n",
    "len(data)"
   ]
  },
  {
   "cell_type": "markdown",
   "metadata": {},
   "source": [
    "Spectral Analysis"
   ]
  },
  {
   "cell_type": "code",
   "execution_count": null,
   "metadata": {},
   "outputs": [],
   "source": [
    "results = []\n",
    "problems = []\n",
    "for str_rate, pars_rate in data:\n",
    "    try:\n",
    "        beta_str, h_str= get_beta_and_h(str_rate)\n",
    "        beta_pars, h_pars = get_beta_and_h(pars_rate)\n",
    "        alpha_str, c1_str = get_um_params_dtm(str_rate, 1.5)\n",
    "        alpha_pars, c1_pars = get_um_params_dtm(pars_rate, 1.5)\n",
    "        results.append((beta_str, h_str, alpha_str, c1_str, beta_pars, h_pars, alpha_pars, c1_pars))\n",
    "    except:\n",
    "        problems.append((str_rate, pars_rate))\n",
    "        pass\n",
    "\n",
    "results = DataFrame(data= results, columns=[\"beta_str\", \"h_str\", \"alpha_str\", \"c1_str\", \"beta_pars\", \"h_pars\", \"alpha_pars\", \"c1_pars\"])\n",
    "results"
   ]
  },
  {
   "cell_type": "code",
   "execution_count": null,
   "metadata": {},
   "outputs": [],
   "source": [
    "for str_rate, pars_rate in problems:\n",
    "    plt.plot(str_rate)\n",
    "    plt.plot(pars_rate)\n",
    "    break"
   ]
  },
  {
   "cell_type": "markdown",
   "metadata": {},
   "source": [
    "Calculate the fluctuations for each field"
   ]
  },
  {
   "cell_type": "code",
   "execution_count": null,
   "metadata": {},
   "outputs": [],
   "source": [
    "fluc_data = [(fluctuations(str_rate), fluctuations(pars_rate))for str_rate, pars_rate in data]"
   ]
  },
  {
   "cell_type": "markdown",
   "metadata": {},
   "source": [
    "Spectral Analysis"
   ]
  },
  {
   "cell_type": "code",
   "execution_count": null,
   "metadata": {},
   "outputs": [],
   "source": [
    "results = []\n",
    "problems = []\n",
    "for str_rate, pars_rate in fluc_data:\n",
    "    try:\n",
    "        beta_str, h_str= get_beta_and_h(str_rate)\n",
    "        beta_pars, h_pars = get_beta_and_h(pars_rate)\n",
    "        alpha_str, c1_str = get_um_params_dtm(str_rate, 1.5)\n",
    "        alpha_pars, c1_pars = get_um_params_dtm(pars_rate, 1.5)\n",
    "        results.append((beta_str, h_str, alpha_str, c1_str, beta_pars, h_pars, alpha_pars, c1_pars))\n",
    "    except:\n",
    "        problems.append((str_rate, pars_rate))\n",
    "        pass\n",
    "\n",
    "results = DataFrame(data= results, columns=[\"beta_str\", \"h_str\", \"alpha_str\", \"c1_str\", \"beta_pars\", \"h_pars\", \"alpha_pars\", \"c1_pars\"])\n",
    "results"
   ]
  }
 ],
 "metadata": {
  "kernelspec": {
   "display_name": ".venv",
   "language": "python",
   "name": "python3"
  },
  "language_info": {
   "codemirror_mode": {
    "name": "ipython",
    "version": 3
   },
   "file_extension": ".py",
   "mimetype": "text/x-python",
   "name": "python",
   "nbconvert_exporter": "python",
   "pygments_lexer": "ipython3",
   "version": "3.11.2"
  },
  "orig_nbformat": 4
 },
 "nbformat": 4,
 "nbformat_minor": 2
}
