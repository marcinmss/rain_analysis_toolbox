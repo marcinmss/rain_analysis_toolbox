{
 "cells": [
  {
   "cell_type": "markdown",
   "metadata": {},
   "source": [
    "This file is used to save all the events from the larges continuous data between the to devices: 21/08/2023 to 22/10/2023"
   ]
  },
  {
   "cell_type": "code",
   "execution_count": 1,
   "metadata": {},
   "outputs": [],
   "source": [
    "from stereo3d import stereo_read_from_pickle as std_read\n",
    "from parsivel import pars_read_from_pickle as pars_read\n",
    "from aux_funcs.extract_events import is_event\n",
    "from pathlib import Path\n",
    "from matplotlib import pyplot as plt\n",
    "from numpy import logical_and\n",
    "import numpy as np\n",
    "output_folder_parsivel = Path(\"/home/marcio/stage_project/data/output_analysis/sprint02/saved_events/parsivel/\")\n",
    "output_folder_stereo = Path(\"/home/marcio/stage_project/data/output_analysis/sprint02/saved_events/stereo/\")\n",
    "pars_full_event = Path(\"/home/marcio/stage_project/data/saved_events/parsivel02.obj\")\n",
    "str_full_event = Path(\"/home/marcio/stage_project/data/saved_events/stereo02.obj\")"
   ]
  },
  {
   "cell_type": "code",
   "execution_count": 2,
   "metadata": {},
   "outputs": [],
   "source": [
    "# Read the main parsivel series\n",
    "parsivel_full_event = pars_read(pars_full_event)\n",
    "stereo_full_event = std_read(str_full_event)"
   ]
  },
  {
   "cell_type": "code",
   "execution_count": null,
   "metadata": {},
   "outputs": [],
   "source": [
    "# Find events for that are detected both in the parsivel and stereo devices\n",
    "parsivel_events = is_event(parsivel_full_event.rain_rate,15, 0.1)\n",
    "stereo_events = is_event(stereo_full_event.rain_rate(), 15,0.1)\n",
    "simutainous_events = logical_and(parsivel_events, stereo_events[:-1])\n",
    "plt.plot(simutainous_events)\n",
    "plt.plot(parsivel_events*0.67)\n",
    "plt.plot(stereo_events*0.33)"
   ]
  },
  {
   "cell_type": "code",
   "execution_count": null,
   "metadata": {},
   "outputs": [],
   "source": [
    "# Colect the detected events into parsivel time series and plot to look at them\n",
    "parsivel_events = parsivel_full_event.colect_events(simutainous_events)\n",
    "print(len(parsivel_events))\n",
    "n = int(np.ceil(len(parsivel_events)**0.5))\n",
    "figure = plt.figure()\n",
    "figure.set_size_inches((n*3 +3, n*3 + 3))\n",
    "figure.set_constrained_layout(True)\n",
    "for i, event in enumerate(parsivel_events):\n",
    "    ax = figure.add_subplot(n,n, i + 1)\n",
    "    ax.plot(event.rain_rate)\n"
   ]
  },
  {
   "cell_type": "code",
   "execution_count": null,
   "metadata": {},
   "outputs": [],
   "source": [
    "# Colect the events for the Stereo 3D as well and check to see is the durations match\n",
    "stereo_events = stereo_full_event.extract_events([pars_event.duration for pars_event in parsivel_events])\n",
    "all(pars_event.duration == stereo_event.duration for pars_event, stereo_event in zip(parsivel_events, stereo_events))"
   ]
  },
  {
   "cell_type": "code",
   "execution_count": null,
   "metadata": {},
   "outputs": [],
   "source": [
    "# Filter the events by the mimimum legth we want\n",
    "minimum_length = 2**7\n",
    "stereo_events = [event for event, pars_event in zip(stereo_events, parsivel_events) if len(pars_event) >= minimum_length]\n",
    "parsivel_events = [event for event in parsivel_events if len(event) >= minimum_length]\n",
    "len(stereo_events), len(parsivel_events)"
   ]
  },
  {
   "cell_type": "code",
   "execution_count": null,
   "metadata": {},
   "outputs": [],
   "source": [
    "# Filter for outliers\n",
    "outliers = [i for i, (pars_event, stereo_event) in enumerate(zip(parsivel_events, stereo_events)) if pars_event.total_depth_for_event > 10000 or stereo_event.total_depth_for_event > 10000]\n",
    "for i, idx in enumerate(outliers):\n",
    "    parsivel_events.pop(idx - i)\n",
    "    stereo_events.pop(idx - i)\n",
    "outliers"
   ]
  },
  {
   "cell_type": "code",
   "execution_count": null,
   "metadata": {},
   "outputs": [],
   "source": [
    "# Clear the folders from previous use\n",
    "for file in output_folder_parsivel.iterdir():\n",
    "    file.unlink()\n",
    "for file in output_folder_stereo.iterdir():\n",
    "    file.unlink()\n",
    "for i, (pars_event, stereo_event) in enumerate(zip(parsivel_events, stereo_events)):\n",
    "    pars_event.to_pickle(output_folder_parsivel / f\"event{i+1:>02}.obj\")\n",
    "    stereo_event.to_pickle(output_folder_stereo / f\"event{i+1:>02}.obj\")"
   ]
  }
 ],
 "metadata": {
  "kernelspec": {
   "display_name": ".venv",
   "language": "python",
   "name": "python3"
  },
  "language_info": {
   "codemirror_mode": {
    "name": "ipython",
    "version": 3
   },
   "file_extension": ".py",
   "mimetype": "text/x-python",
   "name": "python",
   "nbconvert_exporter": "python",
   "pygments_lexer": "ipython3",
   "version": "3.11.7"
  }
 },
 "nbformat": 4,
 "nbformat_minor": 2
}
