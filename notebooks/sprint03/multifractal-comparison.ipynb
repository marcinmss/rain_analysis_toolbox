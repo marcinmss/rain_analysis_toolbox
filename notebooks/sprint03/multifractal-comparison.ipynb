{
 "cells": [
  {
   "cell_type": "code",
   "execution_count": 2,
   "metadata": {},
   "outputs": [],
   "source": [
    "from pandas import read_csv\n",
    "import matplotlib.pyplot as plt\n",
    "import numpy as np\n",
    "\n"
   ]
  },
  {
   "cell_type": "code",
   "execution_count": 7,
   "metadata": {},
   "outputs": [],
   "source": [
    "# Read both data frames\n",
    "stereo_data = read_csv(\"/home/marcio/stage_project/data/output_analysis/sprint02/stereo_events_ensemble.csv\", index_col=0)\n",
    "stereo_data_fluctuations = read_csv(\"/home/marcio/stage_project/data/output_analysis/sprint02/stereo_events_with_fluctuations_ensemble.csv\", index_col=0)\n",
    "parsivel_data = read_csv(\"/home/marcio/stage_project/data/output_analysis/sprint02/parsivel_events_ensemble.csv\", index_col=0)\n",
    "parsivel_data_fluctuations = read_csv(\"/home/marcio/stage_project/data/output_analysis/sprint02/parsivel_events_with_fluctuations_ensemble.csv\", index_col=0)"
   ]
  },
  {
   "cell_type": "code",
   "execution_count": 9,
   "metadata": {},
   "outputs": [
    {
     "data": {
      "text/plain": [
       "Index(['df', 'alpha', 'c1', 'beta', 'h', 'r_square', 'avg_rr', 'total_depth',\n",
       "       'dm', 'percentage_zeros'],\n",
       "      dtype='object')"
      ]
     },
     "execution_count": 9,
     "metadata": {},
     "output_type": "execute_result"
    }
   ],
   "source": [
    "# Pl\n",
    "stereo_data.columns"
   ]
  },
  {
   "cell_type": "code",
   "execution_count": null,
   "metadata": {},
   "outputs": [],
   "source": [
    "fields = ['df', 'alpha', 'c1', 'beta', 'h', 'r_square', 'avg_rr', 'total_depth', 'dm']\n",
    "# Plot all of the fields\n",
    "n_fields = 8\n",
    "n_cols = np.ceil(np.sqrt(n_fields)\n",
    "n_rows = n_fields // n_cols \n",
    "\n",
    "figure = plt.figure()\n",
    "\n",
    "for column in stereo_data.colu\n"
   ]
  }
 ],
 "metadata": {
  "kernelspec": {
   "display_name": ".venv",
   "language": "python",
   "name": "python3"
  },
  "language_info": {
   "codemirror_mode": {
    "name": "ipython",
    "version": 3
   },
   "file_extension": ".py",
   "mimetype": "text/x-python",
   "name": "python",
   "nbconvert_exporter": "python",
   "pygments_lexer": "ipython3",
   "version": "3.11.7"
  }
 },
 "nbformat": 4,
 "nbformat_minor": 2
}
