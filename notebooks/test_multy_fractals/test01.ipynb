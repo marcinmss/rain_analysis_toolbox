{
 "cells": [
  {
   "cell_type": "code",
   "execution_count": null,
   "metadata": {},
   "outputs": [],
   "source": [
    "import numpy as np\n",
    "import matplotlib.pyplot as plt\n",
    "from itertools import pairwise\n",
    "from sklearn.linear_model import LinearRegression"
   ]
  },
  {
   "cell_type": "code",
   "execution_count": null,
   "metadata": {},
   "outputs": [],
   "source": [
    "rand = np.random.randint(0,5,5)\n",
    "rand"
   ]
  },
  {
   "cell_type": "code",
   "execution_count": null,
   "metadata": {},
   "outputs": [],
   "source": [
    "n = rand.shape[0]\n",
    "[sum(rand[i:i+2]) for i in range(n -1)]"
   ]
  },
  {
   "cell_type": "code",
   "execution_count": null,
   "metadata": {},
   "outputs": [],
   "source": [
    "len(zeros.shape)"
   ]
  },
  {
   "cell_type": "code",
   "execution_count": null,
   "metadata": {},
   "outputs": [],
   "source": [
    "def count_boxes(data:np.ndarray) -> int:\n",
    "    return sum(1 for item in data if item)\n",
    "\n",
    "def box_counting_1d(data:np.ndarray, threshold: float) -> float:\n",
    "    assert len(data.shape) == 1\n",
    "    L = data.shape[0]\n",
    "    l = 1\n",
    "    x = []\n",
    "    y = []\n",
    "    for l in range(1, L + 1):\n",
    "        scalled_array = np.fromiter((np.mean(data[i:i+l]) for i in range(L - l + 1)), dtype=float)\n",
    "        n_lambda = count_boxes(scalled_array >= threshold)\n",
    "        x.append(np.log(n_lambda))\n",
    "        y.append(np.log(L/l))\n",
    "    return x,y\n",
    "\n",
    "def beta_sym(n:int, zero_prob: float):\n",
    "    x = []\n",
    "    y = []\n",
    "    old_array = np.ones(1)\n",
    "    n_items = 1\n",
    "    for i in range(n):\n",
    "        n_items *= 2\n",
    "        new_array = np.zeros(n_items)\n",
    "        for i in range(n_items):\n",
    "            idx = i // 2\n",
    "            mult_factor = 1 if np.random.ranf() > zero_prob else 0\n",
    "            new_array[i] = old_array[idx]*mult_factor\n",
    "        n_lambda = count_boxes(new_array == 1)\n",
    "        x.append(np.log(n_lambda))\n",
    "        y.append(np.log(n_items))\n",
    "        old_array = new_array\n",
    "    return x, y\n",
    "        "
   ]
  },
  {
   "cell_type": "code",
   "execution_count": null,
   "metadata": {},
   "outputs": [],
   "source": [
    "x, y = beta_sym(20, 0.2)\n",
    "figure = plt.figure()\n",
    "ax = figure.add_subplot(1,1,1)\n",
    "ax.plot(x,y, marker=\".\")"
   ]
  },
  {
   "cell_type": "code",
   "execution_count": null,
   "metadata": {},
   "outputs": [],
   "source": [
    "x0 = x[0]\n",
    "y0 = y[0]\n",
    "for xf , yf in zip(x[:-1], y[:-1]):\n",
    "    print(yf - y0 / xf - x0)\n",
    "    x0, y0 = xf, yf"
   ]
  },
  {
   "cell_type": "code",
   "execution_count": null,
   "metadata": {},
   "outputs": [],
   "source": []
  }
 ],
 "metadata": {
  "kernelspec": {
   "display_name": "Python 3",
   "language": "python",
   "name": "python3"
  },
  "language_info": {
   "codemirror_mode": {
    "name": "ipython",
    "version": 3
   },
   "file_extension": ".py",
   "mimetype": "text/x-python",
   "name": "python",
   "nbconvert_exporter": "python",
   "pygments_lexer": "ipython3",
   "version": "3.11.4"
  }
 },
 "nbformat": 4,
 "nbformat_minor": 2
}
