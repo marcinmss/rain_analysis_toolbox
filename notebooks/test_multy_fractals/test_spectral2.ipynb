{
 "cells": [
  {
   "cell_type": "code",
   "execution_count": 1,
   "metadata": {},
   "outputs": [],
   "source": [
    "import numpy as np\n",
    "from parsivel.read_write import pars_read_from_pickle\n",
    "from multifractal_analysis.general import slice_to_power_of_2\n",
    "from multifractal_analysis.double_trace_moment import get_um_params_dtm\n",
    "from multifractal_analysis.spectral_analysis import spectral_analysis\n",
    "from multifractal_analysis.trace_moment import tm_analysis\n",
    "from multifractal_analysis.double_trace_moment import dtm_analysis\n",
    "from multifractal_analysis.fractal_dimension import fractal_dimension_analysis\n",
    "from pandas import DataFrame\n",
    "from pathlib import Path\n",
    "from matplotlib import pyplot as plt\n",
    "file = Path(\"/home/marcio/stage_project/data/saved_events/pasivel01.obj\")\n",
    "pars_event = pars_read_from_pickle(file)\n",
    "field = pars_event.rain_rate\n",
    "field = slice_to_power_of_2(field)"
   ]
  },
  {
   "cell_type": "markdown",
   "metadata": {},
   "source": [
    "Fractal Dimension Analysis"
   ]
  },
  {
   "cell_type": "code",
   "execution_count": 4,
   "metadata": {},
   "outputs": [
    {
     "ename": "IndexError",
     "evalue": "index 9 is out of bounds for axis 0 with size 9",
     "output_type": "error",
     "traceback": [
      "\u001b[0;31m---------------------------------------------------------------------------\u001b[0m",
      "\u001b[0;31mIndexError\u001b[0m                                Traceback (most recent call last)",
      "\u001b[1;32m/home/marcio/stage_project/mytoolbox/notebooks/test_multy_fractals/test_spectral2.ipynb Cell 3\u001b[0m line \u001b[0;36m3\n\u001b[1;32m      <a href='vscode-notebook-cell:/home/marcio/stage_project/mytoolbox/notebooks/test_multy_fractals/test_spectral2.ipynb#X25sZmlsZQ%3D%3D?line=0'>1</a>\u001b[0m figure \u001b[39m=\u001b[39m plt\u001b[39m.\u001b[39mfigure()\n\u001b[1;32m      <a href='vscode-notebook-cell:/home/marcio/stage_project/mytoolbox/notebooks/test_multy_fractals/test_spectral2.ipynb#X25sZmlsZQ%3D%3D?line=1'>2</a>\u001b[0m ax \u001b[39m=\u001b[39m figure\u001b[39m.\u001b[39madd_subplot(\u001b[39m1\u001b[39m,\u001b[39m1\u001b[39m,\u001b[39m1\u001b[39m)\n\u001b[0;32m----> <a href='vscode-notebook-cell:/home/marcio/stage_project/mytoolbox/notebooks/test_multy_fractals/test_spectral2.ipynb#X25sZmlsZQ%3D%3D?line=2'>3</a>\u001b[0m result \u001b[39m=\u001b[39m fractal_dimension_analysis(field\u001b[39m.\u001b[39;49mreshape((\u001b[39m-\u001b[39;49m\u001b[39m1\u001b[39;49m,\u001b[39m1\u001b[39;49m)))\n\u001b[1;32m      <a href='vscode-notebook-cell:/home/marcio/stage_project/mytoolbox/notebooks/test_multy_fractals/test_spectral2.ipynb#X25sZmlsZQ%3D%3D?line=3'>4</a>\u001b[0m \u001b[39m# ax.set_xticks(list(range(10)))\u001b[39;00m\n\u001b[1;32m      <a href='vscode-notebook-cell:/home/marcio/stage_project/mytoolbox/notebooks/test_multy_fractals/test_spectral2.ipynb#X25sZmlsZQ%3D%3D?line=4'>5</a>\u001b[0m plt\u001b[39m.\u001b[39mshow()\n",
      "File \u001b[0;32m~/stage_project/mytoolbox/multifractal_analysis/fractal_dimension.py:54\u001b[0m, in \u001b[0;36mfractal_dimension_analysis\u001b[0;34m(field, ax)\u001b[0m\n\u001b[1;32m     51\u001b[0m \u001b[39massert\u001b[39;00m is_power_of_2(field\u001b[39m.\u001b[39mshape[\u001b[39m0\u001b[39m]), \u001b[39m\"\u001b[39m\u001b[39mThe field needs to be a power of 2\u001b[39m\u001b[39m\"\u001b[39m\n\u001b[1;32m     53\u001b[0m \u001b[39m# Get the points for the analysis\u001b[39;00m\n\u001b[0;32m---> 54\u001b[0m x, y \u001b[39m=\u001b[39m get_fractal_dimension_points(field, \u001b[39m0.0001\u001b[39;49m)\n\u001b[1;32m     55\u001b[0m regression_line \u001b[39m=\u001b[39m RegressionSolution(x, y)\n\u001b[1;32m     56\u001b[0m df \u001b[39m=\u001b[39m regression_line\u001b[39m.\u001b[39mangular_coef\n",
      "File \u001b[0;32m~/stage_project/mytoolbox/multifractal_analysis/fractal_dimension.py:32\u001b[0m, in \u001b[0;36mget_fractal_dimension_points\u001b[0;34m(field_1d, gamma)\u001b[0m\n\u001b[1;32m     30\u001b[0m     threshold \u001b[39m=\u001b[39m lamb\u001b[39m*\u001b[39m\u001b[39m*\u001b[39mgamma\n\u001b[1;32m     31\u001b[0m     boxcount \u001b[39m=\u001b[39m count_boxes(scalled_array \u001b[39m>\u001b[39m threshold)\n\u001b[0;32m---> 32\u001b[0m     x[i], y[i] \u001b[39m=\u001b[39m log2(lamb), log2(boxcount)\n\u001b[1;32m     34\u001b[0m \u001b[39mreturn\u001b[39;00m (x, y)\n",
      "\u001b[0;31mIndexError\u001b[0m: index 9 is out of bounds for axis 0 with size 9"
     ]
    },
    {
     "data": {
      "image/png": "[encoded data removed]",
      "text/plain": [
       "<Figure size 640x480 with 1 Axes>"
      ]
     },
     "metadata": {},
     "output_type": "display_data"
    }
   ],
   "source": [
    "figure = plt.figure()\n",
    "ax = figure.add_subplot(1,1,1)\n",
    "result = fractal_dimension_analysis(field.reshape((-1,1)))\n",
    "plt.show()"
   ]
  },
  {
   "cell_type": "markdown",
   "metadata": {},
   "source": [
    "Double Trace Moment Analysis"
   ]
  },
  {
   "cell_type": "code",
   "execution_count": null,
   "metadata": {},
   "outputs": [],
   "source": [
    "figure = plt.figure()\n",
    "ax = figure.add_subplot(1,1,1)\n",
    "result = dtm_analysis(field.reshape(-1,1), ax)"
   ]
  },
  {
   "cell_type": "markdown",
   "metadata": {},
   "source": [
    "Spectral Analysis"
   ]
  },
  {
   "cell_type": "code",
   "execution_count": null,
   "metadata": {},
   "outputs": [],
   "source": [
    "figure = plt.figure()\n",
    "ax = figure.add_subplot(1,1,1)\n",
    "result = tm_analysis(field.reshape(-1,1))\n",
    "# ax.set_xticks(list(range(10)))\n",
    "plt.show()"
   ]
  },
  {
   "cell_type": "markdown",
   "metadata": {},
   "source": [
    "Spectral Analysis"
   ]
  },
  {
   "cell_type": "code",
   "execution_count": null,
   "metadata": {},
   "outputs": [],
   "source": [
    "figure = plt.figure()\n",
    "ax = figure.add_subplot(1,1,1)\n",
    "result = spectral_analysis(field.reshape(-1,1), ax)"
   ]
  },
  {
   "cell_type": "code",
   "execution_count": null,
   "metadata": {},
   "outputs": [],
   "source": [
    "figure = plt.figure()\n",
    "ax = figure.add_subplot(1,1,1)\n",
    "ax.set_title(\"Spectral Analysis\")\n",
    "ax.set_ylabel(\"$\\log _2 (E)$\")\n",
    "ax.set_xlabel(\"$\\log _2 (k)$\")\n",
    "ax.scatter(result.points[0], result.points[1],marker=\"x\", c=\"k\")"
   ]
  },
  {
   "cell_type": "code",
   "execution_count": null,
   "metadata": {},
   "outputs": [],
   "source": []
  }
 ],
 "metadata": {
  "kernelspec": {
   "display_name": ".venv",
   "language": "python",
   "name": "python3"
  },
  "language_info": {
   "codemirror_mode": {
    "name": "ipython",
    "version": 3
   },
   "file_extension": ".py",
   "mimetype": "text/x-python",
   "name": "python",
   "nbconvert_exporter": "python",
   "pygments_lexer": "ipython3",
   "version": "3.11.2"
  }
 },
 "nbformat": 4,
 "nbformat_minor": 2
}
