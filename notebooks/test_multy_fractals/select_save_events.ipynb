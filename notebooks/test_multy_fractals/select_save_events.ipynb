{
 "cells": [
  {
   "cell_type": "code",
   "execution_count": null,
   "metadata": {},
   "outputs": [],
   "source": [
    "from stereo3d import stereo3d_read_from_zips as std_read\n",
    "from parsivel import pars_read_from_zips as pars_read\n",
    "from aux_funcs.extract_events import is_event\n",
    "from multifractal_analysis.general import split_field, fluctuations\n",
    "from multifractal_analysis.spectral_analysis import get_beta_and_h, get_spectral_analysis_points\n",
    "from matplotlib import pyplot as plt\n",
    "from matplotlib.axes import Axes\n",
    "from pathlib import Path\n",
    "import numpy as np \n",
    "stereo_datafolder = \"/home/marcio/stage_project/data/Daily_raw_data_3D_stereo/\"\n",
    "pars_datafolder = \"/home/marcio/stage_project/data/Pars_1/\"\n",
    "beg = 20230821000000\n",
    "end = 20231022235959"
   ]
  },
  {
   "cell_type": "markdown",
   "metadata": {},
   "source": [
    "# Read all the data and extract one event"
   ]
  },
  {
   "cell_type": "code",
   "execution_count": null,
   "metadata": {},
   "outputs": [],
   "source": [
    "# Read the main parsivel series\n",
    "parsivel_series = pars_read(beg, end, pars_datafolder)\n",
    "stereo_series = std_read(beg, end, stereo_datafolder)"
   ]
  },
  {
   "cell_type": "code",
   "execution_count": null,
   "metadata": {},
   "outputs": [],
   "source": [
    "plt.plot(parsivel_series.rain_rate)\n",
    "# plt.plot([rt for rt in parsivel_series.rain_rate if 0 < rt < 1e3])"
   ]
  },
  {
   "cell_type": "code",
   "execution_count": null,
   "metadata": {},
   "outputs": [],
   "source": [
    "plt.plot(stereo_series.rain_rate())"
   ]
  },
  {
   "cell_type": "code",
   "execution_count": null,
   "metadata": {},
   "outputs": [],
   "source": [
    "len(parsivel_series.missing_time_steps)/len(parsivel_series)"
   ]
  },
  {
   "cell_type": "code",
   "execution_count": null,
   "metadata": {},
   "outputs": [],
   "source": [
    "figure = plt.figure()\n",
    "new_fields = split_field(parsivel_series.rain_rate,6, 60)\n",
    "n_samples = new_fields.shape[1]\n",
    "n = int(np.ceil(np.sqrt(n_samples)))\n",
    "figure.set_size_inches((4*n, 4*n))\n",
    "for i in range(n_samples):\n",
    "    ax = figure.add_subplot(n,n,i+1)\n",
    "    ax.plot(new_fields[:,i])"
   ]
  },
  {
   "cell_type": "code",
   "execution_count": null,
   "metadata": {},
   "outputs": [],
   "source": [
    "beta, h = get_beta_and_h(new_fields)\n",
    "beta, h"
   ]
  },
  {
   "cell_type": "code",
   "execution_count": null,
   "metadata": {},
   "outputs": [],
   "source": [
    "x,y = get_spectral_analysis_points(new_fields)\n",
    "plt.scatter(x,y)"
   ]
  },
  {
   "cell_type": "code",
   "execution_count": null,
   "metadata": {},
   "outputs": [],
   "source": [
    "get_"
   ]
  },
  {
   "cell_type": "markdown",
   "metadata": {},
   "source": [
    "Do it with fluctuations"
   ]
  },
  {
   "cell_type": "code",
   "execution_count": null,
   "metadata": {},
   "outputs": [],
   "source": [
    "fluc_data = fluctuations(parsivel_series.rain_rate)\n",
    "plt.plot(fluc_data)"
   ]
  },
  {
   "cell_type": "code",
   "execution_count": null,
   "metadata": {},
   "outputs": [],
   "source": [
    "figure = plt.figure()\n",
    "new_fields = split_field(fluc_data,6, 30)\n",
    "n_samples = new_fields.shape[1]\n",
    "n = int(np.ceil(np.sqrt(n_samples)))\n",
    "figure.set_size_inches((4*n, 4*n))\n",
    "for i in range(n_samples):\n",
    "    ax = figure.add_subplot(n,n,i+1)\n",
    "    ax.plot(new_fields[:,i])"
   ]
  },
  {
   "cell_type": "code",
   "execution_count": null,
   "metadata": {},
   "outputs": [],
   "source": [
    "beta, h = get_beta_and_h(new_fields)\n",
    "beta, h"
   ]
  },
  {
   "cell_type": "code",
   "execution_count": null,
   "metadata": {},
   "outputs": [],
   "source": []
  }
 ],
 "metadata": {
  "kernelspec": {
   "display_name": ".venv",
   "language": "python",
   "name": "python3"
  },
  "language_info": {
   "codemirror_mode": {
    "name": "ipython",
    "version": 3
   },
   "file_extension": ".py",
   "mimetype": "text/x-python",
   "name": "python",
   "nbconvert_exporter": "python",
   "pygments_lexer": "ipython3",
   "version": "3.11.2"
  }
 },
 "nbformat": 4,
 "nbformat_minor": 2
}
