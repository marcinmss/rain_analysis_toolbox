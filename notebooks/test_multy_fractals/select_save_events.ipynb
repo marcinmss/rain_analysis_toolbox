{
 "cells": [
  {
   "cell_type": "code",
   "execution_count": null,
   "metadata": {},
   "outputs": [],
   "source": [
    "from stereo3d import stereo3d_read_from_zips as std_read\n",
    "from parsivel import pars_read_from_zips as pars_read\n",
    "from aux_funcs.extract_events import is_event\n",
    "from multifractal_analysis.general import split_field\n",
    "from multifractal_analysis.spectral_analysis import get_beta_and_h\n",
    "from matplotlib import pyplot as plt\n",
    "from matplotlib.axes import Axes\n",
    "from pathlib import Path\n",
    "import numpy as np \n",
    "stereo_datafolder = \"/home/marcio/stage_project/data/Daily_raw_data_3D_stereo/\"\n",
    "pars_datafolder = \"/home/marcio/stage_project/data/Pars_1/\"\n",
    "beg = 20230821000000\n",
    "end = 20231022235959"
   ]
  },
  {
   "cell_type": "markdown",
   "metadata": {},
   "source": [
    "# Read all the data and extract one event"
   ]
  },
  {
   "cell_type": "code",
   "execution_count": null,
   "metadata": {},
   "outputs": [],
   "source": [
    "# Read the main parsivel series\n",
    "parsivel_series = pars_read(beg, end, pars_datafolder)\n",
    "stereo_series = std_read(beg, end, stereo_datafolder)"
   ]
  },
  {
   "cell_type": "code",
   "execution_count": null,
   "metadata": {},
   "outputs": [],
   "source": [
    "plt.plot(parsivel_series.rain_rate)"
   ]
  },
  {
   "cell_type": "code",
   "execution_count": null,
   "metadata": {},
   "outputs": [],
   "source": [
    "figure = plt.figure()\n",
    "new_fields = split_field(parsivel_series.rain_rate,8, 120)\n",
    "n_samples = new_fields.shape[1]\n",
    "n = int(np.ceil(np.sqrt(n_samples)))\n",
    "figure.set_size_inches((4*n, 4*n))\n",
    "for i in range(n_samples):\n",
    "    ax = figure.add_subplot(n,n,i+1)\n",
    "    ax.plot(new_fields[:,i])"
   ]
  },
  {
   "cell_type": "code",
   "execution_count": null,
   "metadata": {},
   "outputs": [],
   "source": [
    "beta, h = get_beta_and_h(new_fields)\n",
    "beta, h"
   ]
  },
  {
   "cell_type": "code",
   "execution_count": null,
   "metadata": {},
   "outputs": [],
   "source": [
    "pars_events_series = parsivel_series.find_events(15,0.7)\n",
    "str_events_series = is_event(stereo_series.rain_rate(30)[:-1], 15, 0.7)\n",
    "plt.plot(pars_events_series)\n",
    "plt.plot(str_events_series/2)"
   ]
  },
  {
   "cell_type": "code",
   "execution_count": null,
   "metadata": {},
   "outputs": [],
   "source": [
    "parsivel_events = parsivel_series.colect_events(np.logical_and(pars_events_series,str_events_series))\n",
    "len(parsivel_events)"
   ]
  },
  {
   "cell_type": "code",
   "execution_count": null,
   "metadata": {},
   "outputs": [],
   "source": [
    "n = int(np.ceil(len(parsivel_events)**0.5))\n",
    "figure = plt.figure()\n",
    "figure.set_size_inches((n*3 +3, n*3 + 3))\n",
    "figure.set_constrained_layout(True)\n",
    "for i, event in enumerate(parsivel_events):\n",
    "    ax = figure.add_subplot(n,n, i + 1)\n",
    "    ax.plot(event.rain_rate)"
   ]
  },
  {
   "cell_type": "markdown",
   "metadata": {},
   "source": [
    "#### Select event from Stereo 3D"
   ]
  },
  {
   "cell_type": "code",
   "execution_count": null,
   "metadata": {},
   "outputs": [],
   "source": [
    "stereo_events = stereo_series.extract_events([pars_event.duration for pars_event in parsivel_events])\n",
    "all(pars_event.duration == stereo_event.duration for pars_event, stereo_event in zip(parsivel_events, stereo_events))"
   ]
  },
  {
   "cell_type": "markdown",
   "metadata": {},
   "source": [
    "### Save the event for stereo 3D and parsivel"
   ]
  },
  {
   "cell_type": "markdown",
   "metadata": {},
   "source": [
    "Filter for outliers"
   ]
  },
  {
   "cell_type": "code",
   "execution_count": null,
   "metadata": {},
   "outputs": [],
   "source": [
    "outliers = [i for i, (pars_event, stereo_event) in enumerate(zip(parsivel_events, stereo_events)) if pars_event.total_depth_for_event > 10000 or stereo_event.total_depth_for_event > 10000]\n",
    "for i, idx in enumerate(outliers):\n",
    "    parsivel_events.pop(idx - i)\n",
    "    stereo_events.pop(idx - i)\n",
    "outliers"
   ]
  },
  {
   "cell_type": "code",
   "execution_count": null,
   "metadata": {},
   "outputs": [],
   "source": [
    "pars_folder = Path(\"/home/debian-mmss/stage_project/data/saved_events/pars_events/\")\n",
    "stereo_folder = Path(\"/home/debian-mmss/stage_project/data/saved_events/stereo_events\")\n",
    "# Clear the folders from previous use\n",
    "for file in pars_folder.iterdir():\n",
    "    file.unlink()\n",
    "for file in stereo_folder.iterdir():\n",
    "    file.unlink()\n",
    "for i, (pars_event, stereo_event) in enumerate(zip(parsivel_events, stereo_events)):\n",
    "    pars_event.to_pickle(pars_folder / f\"event{i+1:>02}.obj\")\n",
    "    stereo_event.to_pickle(stereo_folder / f\"event{i+1:>02}.obj\")"
   ]
  }
 ],
 "metadata": {
  "kernelspec": {
   "display_name": ".venv",
   "language": "python",
   "name": "python3"
  },
  "language_info": {
   "codemirror_mode": {
    "name": "ipython",
    "version": 3
   },
   "file_extension": ".py",
   "mimetype": "text/x-python",
   "name": "python",
   "nbconvert_exporter": "python",
   "pygments_lexer": "ipython3",
   "version": "3.11.2"
  }
 },
 "nbformat": 4,
 "nbformat_minor": 2
}
