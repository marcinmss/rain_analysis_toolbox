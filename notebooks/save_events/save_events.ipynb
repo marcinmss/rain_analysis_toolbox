{
 "cells": [
  {
   "cell_type": "markdown",
   "metadata": {},
   "source": [
    "This file is used to save all the events from the larges continuous data between the to devices: 21/08/2023 to 22/10/2023"
   ]
  },
  {
   "cell_type": "code",
   "execution_count": 4,
   "metadata": {},
   "outputs": [],
   "source": [
    "from stereo3d import stereo3d_read_from_zips as std_read\n",
    "from parsivel import pars_read_from_zips as pars_read\n",
    "from pathlib import Path\n",
    "pars_datafolder = Path(\"/home/marcio/stage_project/data/Pars_1/\")\n",
    "stereo_datafolder = Path(\"/home/marcio/stage_project/data/Daily_raw_data_3D_stereo/\")\n",
    "beg = 20230821000000\n",
    "end = 20231022235959"
   ]
  },
  {
   "cell_type": "code",
   "execution_count": 5,
   "metadata": {},
   "outputs": [],
   "source": [
    "# Read the main parsivel series\n",
    "parsivel_rain_rate = pars_read(beg, end, pars_datafolder)\n",
    "stereo_rain_rate = std_read(beg, end, stereo_datafolder)"
   ]
  },
  {
   "cell_type": "code",
   "execution_count": 7,
   "metadata": {},
   "outputs": [],
   "source": [
    "pars_folder = Path(\"/home/marcio/stage_project/data/saved_events/parsivel02.obj\")\n",
    "stereo_folder = Path(\"/home/marcio/stage_project/data/saved_events/stereo02.obj\")\n",
    "parsivel_rain_rate.to_pickle(pars_folder)\n",
    "stereo_rain_rate.to_pickle(stereo_folder)"
   ]
  }
 ],
 "metadata": {
  "kernelspec": {
   "display_name": ".venv",
   "language": "python",
   "name": "python3"
  },
  "language_info": {
   "codemirror_mode": {
    "name": "ipython",
    "version": 3
   },
   "file_extension": ".py",
   "mimetype": "text/x-python",
   "name": "python",
   "nbconvert_exporter": "python",
   "pygments_lexer": "ipython3",
   "version": "3.11.2"
  }
 },
 "nbformat": 4,
 "nbformat_minor": 2
}
